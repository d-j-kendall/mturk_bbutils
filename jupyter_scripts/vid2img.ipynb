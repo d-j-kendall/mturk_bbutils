{
 "cells": [
  {
   "cell_type": "code",
   "execution_count": 28,
   "metadata": {},
   "outputs": [
    {
     "name": "stdout",
     "output_type": "stream",
     "text": [
      "3.4.2\n",
      "True\n"
     ]
    }
   ],
   "source": [
    "import cv2\n",
    "import os\n",
    "print(cv2.__version__)\n",
    "video_path = '/home/dkendall/HDD/sdesign_data/video_data/youtube_video_data/roulette_channel_2_cropped.m4v'\n",
    "output_path = '/home/dkendall/HDD/sdesign_data/image_data/custom_annotations/batch_1/al/'\n",
    "print(os.path.isfile(video_path))\n",
    "vidcap = cv2.VideoCapture(video_path)\n",
    "success,image = vidcap.read()\n",
    "count = 250\n",
    "success = True\n"
   ]
  },
  {
   "cell_type": "code",
   "execution_count": 29,
   "metadata": {},
   "outputs": [
    {
     "name": "stdout",
     "output_type": "stream",
     "text": [
      "True\n"
     ]
    }
   ],
   "source": [
    "print(os.path.exists(f\"{output_path}\"))"
   ]
  },
  {
   "cell_type": "code",
   "execution_count": 2,
   "metadata": {},
   "outputs": [],
   "source": [
    "# without transform\n",
    "while success:\n",
    "    vidcap.set(1,count)\n",
    "    success,image = vidcap.read()  \n",
    "    cv2.imwrite(\"images/b-%d-lowRes.jpg\" % count, image)     # save frame as JPEG file\n",
    "    count += 503"
   ]
  },
  {
   "cell_type": "code",
   "execution_count": 31,
   "metadata": {},
   "outputs": [],
   "source": [
    "# with transform\n",
    "while success:\n",
    "    vidcap.set(1,count)\n",
    "    success,image = vidcap.read()  \n",
    "    cv2.imwrite(output_path+str(count)+\"-live_stream2.jpg\", image)     # save frame as JPEG file\n",
    "    count += 623"
   ]
  },
  {
   "cell_type": "code",
   "execution_count": 30,
   "metadata": {},
   "outputs": [
    {
     "name": "stdout",
     "output_type": "stream",
     "text": [
      "461640\n"
     ]
    }
   ],
   "source": [
    "frame_count =  int(vidcap.get(cv2.CAP_PROP_FRAME_COUNT))\n",
    "print(frame_count)"
   ]
  },
  {
   "cell_type": "code",
   "execution_count": null,
   "metadata": {},
   "outputs": [],
   "source": []
  }
 ],
 "metadata": {
  "kernelspec": {
   "display_name": "Python 3",
   "language": "python",
   "name": "python3"
  },
  "language_info": {
   "codemirror_mode": {
    "name": "ipython",
    "version": 3
   },
   "file_extension": ".py",
   "mimetype": "text/x-python",
   "name": "python",
   "nbconvert_exporter": "python",
   "pygments_lexer": "ipython3",
   "version": "3.7.2"
  }
 },
 "nbformat": 4,
 "nbformat_minor": 2
}
